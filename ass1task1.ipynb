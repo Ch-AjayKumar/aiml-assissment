{
  "nbformat": 4,
  "nbformat_minor": 0,
  "metadata": {
    "colab": {
      "provenance": []
    },
    "kernelspec": {
      "name": "python3",
      "display_name": "Python 3"
    },
    "language_info": {
      "name": "python"
    }
  },
  "cells": [
    {
      "cell_type": "code",
      "execution_count": 4,
      "metadata": {
        "id": "mKuFMkxmESyG"
      },
      "outputs": [],
      "source": [
        "import numpy as np\n",
        "import pandas as pd\n",
        "l1 = [98,10,2,3,4]\n",
        "l2 = [11,12,13,12,15]\n",
        "a1 = np.array(l1)\n",
        "a2 = np.array(l2)"
      ]
    },
    {
      "cell_type": "code",
      "source": [
        "print(\"Type of array1:\", type(l1))\n",
        "print(\"Type of array2:\", type(a2))\n",
        "print(\"Multiplication of array1 and array2:\")\n",
        "print(a1 * a2)\n",
        "print(\"Division of array1 by array2:\")\n",
        "print(a1 / a2)\n",
        "print(\"array1 raised to the power of array2:\")\n",
        "print(a1 ** a2)\n",
        "print(\"Addition of two:\",l1 + l2)\n",
        "print(np.sin(a1))\n",
        "print(np.log(a2))\n",
        "print(np.log2(a1))\n",
        "print(np.exp(a2))"
      ],
      "metadata": {
        "colab": {
          "base_uri": "https://localhost:8080/"
        },
        "id": "mZpUZyHuEdBz",
        "outputId": "f142a6cf-0d62-449e-b89f-fcd34825e999"
      },
      "execution_count": 5,
      "outputs": [
        {
          "output_type": "stream",
          "name": "stdout",
          "text": [
            "Type of array1: <class 'list'>\n",
            "Type of array2: <class 'numpy.ndarray'>\n",
            "Multiplication of array1 and array2:\n",
            "[1078  120   26   36   60]\n",
            "Division of array1 by array2:\n",
            "[8.90909091 0.83333333 0.15384615 0.25       0.26666667]\n",
            "array1 raised to the power of array2:\n",
            "[1426579508014123008       1000000000000                8192\n",
            "              531441          1073741824]\n",
            "Addition of two: [98, 10, 2, 3, 4, 11, 12, 13, 12, 15]\n",
            "[-0.57338187 -0.54402111  0.90929743  0.14112001 -0.7568025 ]\n",
            "[2.39789527 2.48490665 2.56494936 2.48490665 2.7080502 ]\n",
            "[6.61470984 3.32192809 1.         1.5849625  2.        ]\n",
            "[  59874.1417152   162754.791419    442413.39200892  162754.791419\n",
            " 3269017.37247211]\n"
          ]
        }
      ]
    }
  ]
}